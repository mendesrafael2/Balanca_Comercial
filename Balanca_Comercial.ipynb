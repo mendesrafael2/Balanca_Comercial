{
 "cells": [
  {
   "cell_type": "code",
   "execution_count": 1,
   "id": "55708bd5",
   "metadata": {},
   "outputs": [],
   "source": [
    "import dash\n",
    "import dash_html_components as html\n",
    "import dash_core_components as dcc\n",
    "import plotly.graph_objs as go\n",
    "import pandas as pd\n",
    "from dash.dependencies import Input, Output\n",
    "import plotly.express as px"
   ]
  },
  {
   "cell_type": "code",
   "execution_count": 2,
   "id": "544ce05d",
   "metadata": {},
   "outputs": [],
   "source": [
    "exp_imp_completa_UF_df = pd.read_csv(\"data/exp_imp_completa_UF_df.csv\")\n",
    "#exp_imp_completa_UF_df"
   ]
  },
  {
   "cell_type": "code",
   "execution_count": 3,
   "id": "a38ea5e7",
   "metadata": {},
   "outputs": [],
   "source": [
    "exp_imp_br_df = pd.read_csv('data/exp_imp_br.csv')\n",
    "#exp_imp_br_df"
   ]
  },
  {
   "cell_type": "code",
   "execution_count": 4,
   "id": "aa6428ec",
   "metadata": {
    "scrolled": true
   },
   "outputs": [],
   "source": [
    "app = dash.Dash()\n",
    "\n",
    "n_top_options = []\n",
    "for n_top in range(1,28):\n",
    "    n_top_options.append({'label': str(n_top), 'value': n_top})\n",
    "    \n",
    "min_year = exp_imp_completa_UF_df['Ano'].min()\n",
    "max_year = exp_imp_completa_UF_df['Ano'].max()\n",
    "\n",
    "app.layout = html.Div([\n",
    "\n",
    "    #html.H1(\"Balança Comercial Brasileira\"),\n",
    "    \n",
    "    html.Div([\n",
    "       \n",
    "        dcc.Graph(id='output-exportacao'),\n",
    "        \n",
    "         dcc.Markdown('Período'),\n",
    "        dcc.RangeSlider(\n",
    "        id='range-slider',\n",
    "        min=min_year, max=max_year, step=1,\n",
    "        marks={1997: str(min_year), 2021: str(max_year)},\n",
    "        value=[min_year, max_year]\n",
    "        ),\n",
    "        \n",
    "        dcc.Markdown('N Estados que mais exportam') ,\n",
    "        dcc.Dropdown(id='year_picker', options=n_top_options, value=10)\n",
    "        ], style={'width': '25%','display': 'inline-block', 'vertical-align': 'middle'}),\n",
    "    \n",
    "    html.Div([\n",
    "        dcc.Graph(id='top_N'),\n",
    "        ], style={'width': '75%', 'display': 'inline-block', 'vertical-align': 'top'}) ,\n",
    "    \n",
    "    html.Div([\n",
    "        dcc.Graph(id='serie_temporal'),\n",
    "        \n",
    "        ], style={'width': '100%', 'display': 'inline-block', 'vertical-align': 'top'})      \n",
    "])"
   ]
  },
  {
   "cell_type": "code",
   "execution_count": 5,
   "id": "a23bec81",
   "metadata": {},
   "outputs": [],
   "source": [
    "@app.callback(Output('serie_temporal', 'figure'),\n",
    "              Output('output-exportacao', 'figure'),\n",
    "              Input('range-slider', 'value'))\n",
    "\n",
    "def serie_temporal_indicador(slider_range):\n",
    "    low, high = slider_range\n",
    "    mask = (exp_imp_br_df['Ano'] >= low) & (exp_imp_br_df['Ano'] <= high)\n",
    "    \n",
    "    total_exp = exp_imp_br_df[mask][\"Exportações\"].sum()\n",
    "    total_imp = exp_imp_br_df[mask][\"Importações\"].sum()\n",
    "    \n",
    "    fig_serie_temporal = go.Figure( \n",
    "    data =[go.Scatter(x=exp_imp_br_df[mask][\"Ano\"], y=exp_imp_br_df[mask][\"Exportações\"],\n",
    "                      mode='lines+markers', name='Exportações'),\n",
    "\n",
    "           go.Scatter(x=exp_imp_br_df[mask][\"Ano\"], y=exp_imp_br_df[mask][\"Importações\"],\n",
    "                      mode='lines+markers', name='Importações')],\n",
    "            layout=go.Layout(\n",
    "            title=go.layout.Title(text=\"Exportações e importações entre os anos \" +str(low)+\" e \"+str(high))\n",
    "            )\n",
    "    )\n",
    "\n",
    "    fig_serie_temporal.update_xaxes(tickangle = 45,\n",
    "    showgrid=False,\n",
    "    dtick=\"M1\")\n",
    "\n",
    "    fig_serie_temporal.update_yaxes(showgrid=True,\n",
    "                tickprefix=\"US$ \",\n",
    "                ticksuffix=\"ilhões\")\n",
    "    \n",
    "    fig_serie_temporal.update_layout(height=300)#width=400\n",
    "   \n",
    "    fig_indicador = go.Figure(go.Indicator(\n",
    "                        mode = \"number+delta\",\n",
    "                        value = total_exp ,\n",
    "                        delta = {\"reference\": total_imp,'position': \"top\"},\n",
    "                        title = {\"text\": \"Saldo\"},\n",
    "                        domain = {'y': [0, 1], 'x': [0, 1]}))\n",
    "\n",
    "    fig_indicador.update_layout(height=250)\n",
    "    \n",
    "    return fig_serie_temporal, fig_indicador"
   ]
  },
  {
   "cell_type": "code",
   "execution_count": 6,
   "id": "f4a4d8f9",
   "metadata": {},
   "outputs": [],
   "source": [
    "@app.callback(Output('top_N', 'figure'),\n",
    "              Input('range-slider', 'value'),\n",
    "              Input('year_picker', 'value'))\n",
    "\n",
    "def top_N(slider_range, n_top):\n",
    "    low, high = slider_range\n",
    "    mask = (exp_imp_completa_UF_df['Ano'] >= low) & (exp_imp_completa_UF_df['Ano'] <= high)\n",
    "    \n",
    "    # O dataFrame é filtrado aqui\n",
    "    top_N_exp = (exp_imp_completa_UF_df[mask][[\"Estado\", \"Exportação\"]].groupby([\"Estado\"]).sum()\n",
    "               ).sort_values(by=[\"Exportação\"],ascending=False)[:n_top]\n",
    "\n",
    "    top_N_exp['Estado'] = top_N_exp.index\n",
    "    \n",
    "    top_N_exp = top_N_exp.sort_values(by=[\"Exportação\"])\n",
    "\n",
    "    fig_top_N = px.bar(x=top_N_exp[\"Exportação\"], y=top_N_exp[\"Estado\"], orientation='h'\n",
    "                 ,title=(\"Top \"+ str(n_top)+ \" estados exportadores entre os anos \" +str(low)+\" e \"+str(high)))\n",
    "        \n",
    "    fig_top_N.update_layout(height=490)\n",
    "    return fig_top_N"
   ]
  },
  {
   "cell_type": "code",
   "execution_count": 8,
   "id": "39c871dc",
   "metadata": {},
   "outputs": [
    {
     "name": "stdout",
     "output_type": "stream",
     "text": [
      "Dash is running on http://127.0.0.1:8050/\n",
      "\n",
      " * Serving Flask app \"__main__\" (lazy loading)\n",
      " * Environment: production\n",
      "   WARNING: This is a development server. Do not use it in a production deployment.\n",
      "   Use a production WSGI server instead.\n",
      " * Debug mode: off\n"
     ]
    },
    {
     "name": "stderr",
     "output_type": "stream",
     "text": [
      " * Running on http://127.0.0.1:8050/ (Press CTRL+C to quit)\n",
      "127.0.0.1 - - [27/Oct/2021 19:11:24] \"\u001b[37mGET / HTTP/1.1\u001b[0m\" 200 -\n",
      "127.0.0.1 - - [27/Oct/2021 19:11:25] \"\u001b[37mGET /_dash-layout HTTP/1.1\u001b[0m\" 200 -\n",
      "127.0.0.1 - - [27/Oct/2021 19:11:25] \"\u001b[37mGET /_dash-dependencies HTTP/1.1\u001b[0m\" 200 -\n",
      "127.0.0.1 - - [27/Oct/2021 19:11:25] \"\u001b[37mGET /_dash-component-suites/dash_core_components/async-markdown.js HTTP/1.1\u001b[0m\" 200 -\n",
      "127.0.0.1 - - [27/Oct/2021 19:11:25] \"\u001b[37mGET /_dash-component-suites/dash_core_components/async-graph.js HTTP/1.1\u001b[0m\" 200 -\n",
      "127.0.0.1 - - [27/Oct/2021 19:11:25] \"\u001b[37mGET /_dash-component-suites/dash_core_components/async-dropdown.js HTTP/1.1\u001b[0m\" 200 -\n",
      "127.0.0.1 - - [27/Oct/2021 19:11:25] \"\u001b[37mGET /_dash-component-suites/dash_core_components/async-slider.js HTTP/1.1\u001b[0m\" 200 -\n",
      "127.0.0.1 - - [27/Oct/2021 19:11:25] \"\u001b[37mPOST /_dash-update-component HTTP/1.1\u001b[0m\" 200 -\n",
      "127.0.0.1 - - [27/Oct/2021 19:11:25] \"\u001b[37mGET /_dash-component-suites/dash_core_components/async-highlight.js HTTP/1.1\u001b[0m\" 200 -\n",
      "127.0.0.1 - - [27/Oct/2021 19:11:25] \"\u001b[37mPOST /_dash-update-component HTTP/1.1\u001b[0m\" 200 -\n",
      "127.0.0.1 - - [27/Oct/2021 19:11:26] \"\u001b[37mGET /_dash-component-suites/dash_core_components/async-plotlyjs.js HTTP/1.1\u001b[0m\" 200 -\n"
     ]
    }
   ],
   "source": [
    "if __name__ == '__main__':\n",
    "    app.run_server(debug=False)"
   ]
  }
 ],
 "metadata": {
  "kernelspec": {
   "display_name": "Python 3",
   "language": "python",
   "name": "python3"
  },
  "language_info": {
   "codemirror_mode": {
    "name": "ipython",
    "version": 3
   },
   "file_extension": ".py",
   "mimetype": "text/x-python",
   "name": "python",
   "nbconvert_exporter": "python",
   "pygments_lexer": "ipython3",
   "version": "3.8.8"
  }
 },
 "nbformat": 4,
 "nbformat_minor": 5
}
